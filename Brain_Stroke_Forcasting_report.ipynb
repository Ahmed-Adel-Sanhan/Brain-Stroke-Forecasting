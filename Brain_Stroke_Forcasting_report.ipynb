{
 "cells": [
  {
   "cell_type": "code",
   "execution_count": 2,
   "id": "825b6c24",
   "metadata": {},
   "outputs": [
    {
     "data": {
      "text/html": [
       "<div>\n",
       "<style scoped>\n",
       "    .dataframe tbody tr th:only-of-type {\n",
       "        vertical-align: middle;\n",
       "    }\n",
       "\n",
       "    .dataframe tbody tr th {\n",
       "        vertical-align: top;\n",
       "    }\n",
       "\n",
       "    .dataframe thead th {\n",
       "        text-align: right;\n",
       "    }\n",
       "</style>\n",
       "<table border=\"1\" class=\"dataframe\">\n",
       "  <thead>\n",
       "    <tr style=\"text-align: right;\">\n",
       "      <th></th>\n",
       "      <th>id</th>\n",
       "      <th>age</th>\n",
       "      <th>hypertension</th>\n",
       "      <th>heart_disease</th>\n",
       "      <th>avg_glucose_level</th>\n",
       "      <th>bmi</th>\n",
       "      <th>stroke</th>\n",
       "    </tr>\n",
       "  </thead>\n",
       "  <tbody>\n",
       "    <tr>\n",
       "      <th>count</th>\n",
       "      <td>5110.000000</td>\n",
       "      <td>5110.000000</td>\n",
       "      <td>5110.000000</td>\n",
       "      <td>5110.000000</td>\n",
       "      <td>5110.000000</td>\n",
       "      <td>4909.000000</td>\n",
       "      <td>5110.000000</td>\n",
       "    </tr>\n",
       "    <tr>\n",
       "      <th>mean</th>\n",
       "      <td>36517.829354</td>\n",
       "      <td>43.226614</td>\n",
       "      <td>0.097456</td>\n",
       "      <td>0.054012</td>\n",
       "      <td>106.147677</td>\n",
       "      <td>28.893237</td>\n",
       "      <td>0.048728</td>\n",
       "    </tr>\n",
       "    <tr>\n",
       "      <th>std</th>\n",
       "      <td>21161.721625</td>\n",
       "      <td>22.612647</td>\n",
       "      <td>0.296607</td>\n",
       "      <td>0.226063</td>\n",
       "      <td>45.283560</td>\n",
       "      <td>7.854067</td>\n",
       "      <td>0.215320</td>\n",
       "    </tr>\n",
       "    <tr>\n",
       "      <th>min</th>\n",
       "      <td>67.000000</td>\n",
       "      <td>0.080000</td>\n",
       "      <td>0.000000</td>\n",
       "      <td>0.000000</td>\n",
       "      <td>55.120000</td>\n",
       "      <td>10.300000</td>\n",
       "      <td>0.000000</td>\n",
       "    </tr>\n",
       "    <tr>\n",
       "      <th>25%</th>\n",
       "      <td>17741.250000</td>\n",
       "      <td>25.000000</td>\n",
       "      <td>0.000000</td>\n",
       "      <td>0.000000</td>\n",
       "      <td>77.245000</td>\n",
       "      <td>23.500000</td>\n",
       "      <td>0.000000</td>\n",
       "    </tr>\n",
       "    <tr>\n",
       "      <th>50%</th>\n",
       "      <td>36932.000000</td>\n",
       "      <td>45.000000</td>\n",
       "      <td>0.000000</td>\n",
       "      <td>0.000000</td>\n",
       "      <td>91.885000</td>\n",
       "      <td>28.100000</td>\n",
       "      <td>0.000000</td>\n",
       "    </tr>\n",
       "    <tr>\n",
       "      <th>75%</th>\n",
       "      <td>54682.000000</td>\n",
       "      <td>61.000000</td>\n",
       "      <td>0.000000</td>\n",
       "      <td>0.000000</td>\n",
       "      <td>114.090000</td>\n",
       "      <td>33.100000</td>\n",
       "      <td>0.000000</td>\n",
       "    </tr>\n",
       "    <tr>\n",
       "      <th>max</th>\n",
       "      <td>72940.000000</td>\n",
       "      <td>82.000000</td>\n",
       "      <td>1.000000</td>\n",
       "      <td>1.000000</td>\n",
       "      <td>271.740000</td>\n",
       "      <td>97.600000</td>\n",
       "      <td>1.000000</td>\n",
       "    </tr>\n",
       "  </tbody>\n",
       "</table>\n",
       "</div>"
      ],
      "text/plain": [
       "                 id          age  hypertension  heart_disease  \\\n",
       "count   5110.000000  5110.000000   5110.000000    5110.000000   \n",
       "mean   36517.829354    43.226614      0.097456       0.054012   \n",
       "std    21161.721625    22.612647      0.296607       0.226063   \n",
       "min       67.000000     0.080000      0.000000       0.000000   \n",
       "25%    17741.250000    25.000000      0.000000       0.000000   \n",
       "50%    36932.000000    45.000000      0.000000       0.000000   \n",
       "75%    54682.000000    61.000000      0.000000       0.000000   \n",
       "max    72940.000000    82.000000      1.000000       1.000000   \n",
       "\n",
       "       avg_glucose_level          bmi       stroke  \n",
       "count        5110.000000  4909.000000  5110.000000  \n",
       "mean          106.147677    28.893237     0.048728  \n",
       "std            45.283560     7.854067     0.215320  \n",
       "min            55.120000    10.300000     0.000000  \n",
       "25%            77.245000    23.500000     0.000000  \n",
       "50%            91.885000    28.100000     0.000000  \n",
       "75%           114.090000    33.100000     0.000000  \n",
       "max           271.740000    97.600000     1.000000  "
      ]
     },
     "execution_count": 2,
     "metadata": {},
     "output_type": "execute_result"
    }
   ],
   "source": [
    "#Importing the neccessiary library into Python\n",
    "import pandas as pd\n",
    "import numpy as np\n",
    "import matplotlib.pyplot as plt\n",
    "import seaborn as sns\n",
    "import time\n",
    "from sklearn.model_selection import train_test_split\n",
    "from sklearn.metrics import accuracy_score, confusion_matrix, precision_recall_fscore_support\n",
    "%matplotlib inline\n",
    "\n",
    "df = pd.read_csv(\"/Users/ahmed/Downloads/healthcare-dataset-stroke-data.csv\")\n",
    "df.describe()\n"
   ]
  },
  {
   "cell_type": "code",
   "execution_count": 3,
   "id": "ad67c939",
   "metadata": {},
   "outputs": [
    {
     "data": {
      "text/html": [
       "<div>\n",
       "<style scoped>\n",
       "    .dataframe tbody tr th:only-of-type {\n",
       "        vertical-align: middle;\n",
       "    }\n",
       "\n",
       "    .dataframe tbody tr th {\n",
       "        vertical-align: top;\n",
       "    }\n",
       "\n",
       "    .dataframe thead th {\n",
       "        text-align: right;\n",
       "    }\n",
       "</style>\n",
       "<table border=\"1\" class=\"dataframe\">\n",
       "  <thead>\n",
       "    <tr style=\"text-align: right;\">\n",
       "      <th></th>\n",
       "      <th>id</th>\n",
       "      <th>gender</th>\n",
       "      <th>age</th>\n",
       "      <th>hypertension</th>\n",
       "      <th>heart_disease</th>\n",
       "      <th>ever_married</th>\n",
       "      <th>work_type</th>\n",
       "      <th>Residence_type</th>\n",
       "      <th>avg_glucose_level</th>\n",
       "      <th>bmi</th>\n",
       "      <th>smoking_status</th>\n",
       "      <th>stroke</th>\n",
       "    </tr>\n",
       "  </thead>\n",
       "  <tbody>\n",
       "    <tr>\n",
       "      <th>0</th>\n",
       "      <td>9046</td>\n",
       "      <td>Male</td>\n",
       "      <td>67.0</td>\n",
       "      <td>0</td>\n",
       "      <td>1</td>\n",
       "      <td>Yes</td>\n",
       "      <td>Private</td>\n",
       "      <td>Urban</td>\n",
       "      <td>228.69</td>\n",
       "      <td>36.6</td>\n",
       "      <td>formerly smoked</td>\n",
       "      <td>1</td>\n",
       "    </tr>\n",
       "    <tr>\n",
       "      <th>1</th>\n",
       "      <td>51676</td>\n",
       "      <td>Female</td>\n",
       "      <td>61.0</td>\n",
       "      <td>0</td>\n",
       "      <td>0</td>\n",
       "      <td>Yes</td>\n",
       "      <td>Self-employed</td>\n",
       "      <td>Rural</td>\n",
       "      <td>202.21</td>\n",
       "      <td>NaN</td>\n",
       "      <td>never smoked</td>\n",
       "      <td>1</td>\n",
       "    </tr>\n",
       "    <tr>\n",
       "      <th>2</th>\n",
       "      <td>31112</td>\n",
       "      <td>Male</td>\n",
       "      <td>80.0</td>\n",
       "      <td>0</td>\n",
       "      <td>1</td>\n",
       "      <td>Yes</td>\n",
       "      <td>Private</td>\n",
       "      <td>Rural</td>\n",
       "      <td>105.92</td>\n",
       "      <td>32.5</td>\n",
       "      <td>never smoked</td>\n",
       "      <td>1</td>\n",
       "    </tr>\n",
       "    <tr>\n",
       "      <th>3</th>\n",
       "      <td>60182</td>\n",
       "      <td>Female</td>\n",
       "      <td>49.0</td>\n",
       "      <td>0</td>\n",
       "      <td>0</td>\n",
       "      <td>Yes</td>\n",
       "      <td>Private</td>\n",
       "      <td>Urban</td>\n",
       "      <td>171.23</td>\n",
       "      <td>34.4</td>\n",
       "      <td>smokes</td>\n",
       "      <td>1</td>\n",
       "    </tr>\n",
       "    <tr>\n",
       "      <th>4</th>\n",
       "      <td>1665</td>\n",
       "      <td>Female</td>\n",
       "      <td>79.0</td>\n",
       "      <td>1</td>\n",
       "      <td>0</td>\n",
       "      <td>Yes</td>\n",
       "      <td>Self-employed</td>\n",
       "      <td>Rural</td>\n",
       "      <td>174.12</td>\n",
       "      <td>24.0</td>\n",
       "      <td>never smoked</td>\n",
       "      <td>1</td>\n",
       "    </tr>\n",
       "  </tbody>\n",
       "</table>\n",
       "</div>"
      ],
      "text/plain": [
       "      id  gender   age  hypertension  heart_disease ever_married  \\\n",
       "0   9046    Male  67.0             0              1          Yes   \n",
       "1  51676  Female  61.0             0              0          Yes   \n",
       "2  31112    Male  80.0             0              1          Yes   \n",
       "3  60182  Female  49.0             0              0          Yes   \n",
       "4   1665  Female  79.0             1              0          Yes   \n",
       "\n",
       "       work_type Residence_type  avg_glucose_level   bmi   smoking_status  \\\n",
       "0        Private          Urban             228.69  36.6  formerly smoked   \n",
       "1  Self-employed          Rural             202.21   NaN     never smoked   \n",
       "2        Private          Rural             105.92  32.5     never smoked   \n",
       "3        Private          Urban             171.23  34.4           smokes   \n",
       "4  Self-employed          Rural             174.12  24.0     never smoked   \n",
       "\n",
       "   stroke  \n",
       "0       1  \n",
       "1       1  \n",
       "2       1  \n",
       "3       1  \n",
       "4       1  "
      ]
     },
     "execution_count": 3,
     "metadata": {},
     "output_type": "execute_result"
    }
   ],
   "source": [
    "df.shape\n",
    "df.head()"
   ]
  },
  {
   "cell_type": "code",
   "execution_count": 4,
   "id": "dd4892d2",
   "metadata": {},
   "outputs": [
    {
     "name": "stdout",
     "output_type": "stream",
     "text": [
      "id                     0\n",
      "gender                 0\n",
      "age                    0\n",
      "hypertension           0\n",
      "heart_disease          0\n",
      "ever_married           0\n",
      "work_type              0\n",
      "Residence_type         0\n",
      "avg_glucose_level      0\n",
      "bmi                  201\n",
      "smoking_status         0\n",
      "stroke                 0\n",
      "dtype: int64\n",
      "id                   0\n",
      "gender               0\n",
      "age                  0\n",
      "hypertension         0\n",
      "heart_disease        0\n",
      "ever_married         0\n",
      "work_type            0\n",
      "Residence_type       0\n",
      "avg_glucose_level    0\n",
      "bmi                  0\n",
      "smoking_status       0\n",
      "stroke               0\n",
      "dtype: int64\n",
      "this is the test\n",
      "0       1\n",
      "1       1\n",
      "2       1\n",
      "3       1\n",
      "4       1\n",
      "       ..\n",
      "5105    0\n",
      "5106    0\n",
      "5107    0\n",
      "5108    0\n",
      "5109    0\n",
      "Name: stroke, Length: 5110, dtype: int64\n"
     ]
    },
    {
     "data": {
      "text/plain": [
       "StandardScaler()"
      ]
     },
     "execution_count": 4,
     "metadata": {},
     "output_type": "execute_result"
    }
   ],
   "source": [
    "# import label encoder library to deal with categorical data\n",
    "from sklearn.preprocessing import LabelEncoder\n",
    "#df['gender'] = df['gender'].replace(to_replace = ['Male'], value = 0)\n",
    "df[\"gender\"].replace([\"Male\", \"Female\", \"Other\"], [1, 0, 2], inplace=True)\n",
    "df[\"ever_married\"].replace([\"Yes\", \"No\"], [1, 0], inplace=True)\n",
    "df[\"work_type\"].replace([\"children\", \"Never_worked\", \"Govt_job\", \"Private\", \"Self-employed\"],[0, 1, 2, 3, 4], inplace=True)\n",
    "#print(df[\"work_type\"])\n",
    "df[\"Residence_type\"].replace([\"Urban\", \"Rural\"], [0, 1], inplace=True)\n",
    "df[\"smoking_status\"].replace([\"formerly smoked\", \"never smoked\", \"smokes\", \"Unknown\"], [0, 1, 2, 3],inplace=True)\n",
    "#df['age'] = (df['age'] - df['age'].min()) / (df['age'].max() - df['age'].min())\n",
    "#df['avg_glucose_level'] = (df['avg_glucose_level'] - df['avg_glucose_level'].min()) / (df['avg_glucose_level'].max() - df['avg_glucose_level'].min())\n",
    "#df['hypertension'] = (df['hypertension'] - df['hypertension'].min()) / (df['hypertension'].max() - df['hypertension'].min())\n",
    "#df['ever_married'] = (df['ever_married'] - df['ever_married'].min()) / (df['ever_married'].max() - df['ever_married'].min())\n",
    "#df['work_type'] = (df['work_type'] - df['work_type'].min()) / (df['work_type'].max() - df['work_type'].min())\n",
    "#df['heart_disease'] = (df['heart_disease'] - df['heart_disease'].min()) / (df['heart_disease'].max() - df['heart_disease'].min())\n",
    "#df['smoking_status'] = (df['smoking_status'] - df['smoking_status'].min()) / (df['smoking_status'].max() - df['smoking_status'].min())\n",
    "#df['Residence_type'] = (df['Residence_type'] - df['Residence_type'].min()) / (df['Residence_type'].max() - df['Residence_type'].min())\n",
    "#df['gender'] = (df['gender'] - df['gender'].min()) / (df['gender'].max() - df['gender'].min())\n",
    "\n",
    "\n",
    "print(df.isnull().sum())\n",
    "median = df['bmi'].median()\n",
    "df['bmi'] = df['bmi'].fillna(median)\n",
    "#df['bmi'] = (df['bmi'] - df['bmi'].min()) / (df['bmi'].max() - df['bmi'].min())\n",
    "print(df.isnull().sum())\n",
    "# select all columns except the last one (the target label)\n",
    "x=df.iloc[:,:-1]\n",
    "# set target categorical data label (sixth attribute)\n",
    "y=df.iloc[:,11]\n",
    "print(\"this is the test\")\n",
    "print(y)\n",
    "\n",
    "labelencoder = LabelEncoder()\n",
    "y = labelencoder.fit_transform(y)\n",
    "# import machine learning library to sample the data\n",
    "from sklearn.model_selection import train_test_split\n",
    "\n",
    "x_train,x_test,y_train,y_test=train_test_split(x,y,test_size=0.3,random_state=0)\n",
    "# import machine learning library to standardize the data\n",
    "from sklearn.preprocessing import StandardScaler\n",
    "\n",
    "sc=StandardScaler()\n",
    "sc.fit_transform(x_train,y_train)\n",
    "sc.fit(x_test,y_test)"
   ]
  },
  {
   "cell_type": "code",
   "execution_count": 5,
   "id": "d6337907",
   "metadata": {},
   "outputs": [
    {
     "name": "stdout",
     "output_type": "stream",
     "text": [
      "-------- x axis test ----------\n",
      "         id  gender   age  hypertension  heart_disease  ever_married  \\\n",
      "42    61960       1  82.0             0              1             1   \n",
      "380   31741       1   4.0             0              0             0   \n",
      "3524  59451       1  58.0             0              0             1   \n",
      "352   40670       0  20.0             0              0             0   \n",
      "4927  25391       0  10.0             0              0             0   \n",
      "...     ...     ...   ...           ...            ...           ...   \n",
      "929   36618       1  75.0             0              1             1   \n",
      "2629  72915       0  45.0             0              0             1   \n",
      "663   10997       0  38.0             0              0             1   \n",
      "2303  20316       0  75.0             0              0             1   \n",
      "3122  44375       0  57.0             1              0             1   \n",
      "\n",
      "      work_type  Residence_type  avg_glucose_level   bmi  smoking_status  \n",
      "42            3               0             144.90  26.4               2  \n",
      "380           0               1             106.22  16.7               3  \n",
      "3524          3               0              79.95  25.9               1  \n",
      "352           3               1              96.57  34.1               1  \n",
      "4927          0               1              69.84  13.7               3  \n",
      "...         ...             ...                ...   ...             ...  \n",
      "929           4               0             207.64  30.5               0  \n",
      "2629          3               0             172.33  45.3               0  \n",
      "663           3               1              98.73  24.3               1  \n",
      "2303          2               1             219.39  33.4               2  \n",
      "3122          4               1              63.72  35.8               2  \n",
      "\n",
      "[1533 rows x 11 columns]\n",
      "-------- x axis train ---------\n",
      "         id  gender    age  hypertension  heart_disease  ever_married  \\\n",
      "1921    727       1  44.00             0              0             1   \n",
      "4074  71659       0  70.00             0              0             1   \n",
      "2311  35838       0   1.16             0              0             0   \n",
      "3080  47321       0  74.00             0              0             1   \n",
      "1620  12915       0  66.00             0              0             1   \n",
      "...     ...     ...    ...           ...            ...           ...   \n",
      "4931  30457       0  53.00             1              0             1   \n",
      "3264  24836       0  61.00             0              0             1   \n",
      "1653  17079       1  44.00             0              0             1   \n",
      "2607  72340       1  21.00             0              0             0   \n",
      "2732  52242       0  58.00             1              0             1   \n",
      "\n",
      "      work_type  Residence_type  avg_glucose_level   bmi  smoking_status  \n",
      "1921          3               1              95.46  31.4               2  \n",
      "4074          2               1             158.33  33.5               1  \n",
      "2311          0               0              65.01  17.0               3  \n",
      "3080          3               1              83.58  18.2               1  \n",
      "1620          2               1              85.52  30.0               1  \n",
      "...         ...             ...                ...   ...             ...  \n",
      "4931          2               1              98.61  38.8               2  \n",
      "3264          3               1              72.01  26.0               0  \n",
      "1653          3               1              94.71  28.4               2  \n",
      "2607          3               0             120.94  29.7               0  \n",
      "2732          2               1              59.52  33.2               1  \n",
      "\n",
      "[3577 rows x 11 columns]\n",
      "-------- y axis test ----------\n",
      "[1 0 0 ... 0 0 0]\n",
      "-------- y axis train ---------\n",
      "[0 0 0 ... 0 0 0]\n",
      "*******************************\n"
     ]
    }
   ],
   "source": [
    "print('-------- x axis test ----------')\n",
    "print(x_test)\n",
    "print('-------- x axis train ---------')\n",
    "print(x_train)\n",
    "print('-------- y axis test ----------')\n",
    "print(y_test)\n",
    "print('-------- y axis train ---------')\n",
    "print(y_train)\n",
    "print('*******************************')"
   ]
  },
  {
   "cell_type": "code",
   "execution_count": 6,
   "id": "f444027f",
   "metadata": {},
   "outputs": [],
   "source": [
    "#from sklearn.model_selection import cross_val_score\n",
    "\n",
    "# Instantiate the classifier\n",
    "#gnb = GaussianNB()\n",
    "\n",
    "# Perform k-fold cross validation\n",
    "#scores = cross_val_score(gnb, x, y, cv=10)\n",
    "\n",
    "# Print the mean and standard deviation of the scores\n",
    "#print(\"Accuracy: %0.2f (+/- %0.2f)\" % (scores.mean(), scores.std() * 2))\n"
   ]
  },
  {
   "cell_type": "code",
   "execution_count": null,
   "id": "8c60923f",
   "metadata": {},
   "outputs": [],
   "source": []
  },
  {
   "cell_type": "code",
   "execution_count": 7,
   "id": "e23da3b5",
   "metadata": {},
   "outputs": [
    {
     "name": "stdout",
     "output_type": "stream",
     "text": [
      "Number of mislabeled points out of a total 1533 points : 129, performance 91.59%\n"
     ]
    },
    {
     "data": {
      "text/plain": [
       "Text(0.5, 25.722222222222214, 'Predicted label')"
      ]
     },
     "execution_count": 7,
     "metadata": {},
     "output_type": "execute_result"
    },
    {
     "data": {
      "image/png": "[encoded data removed]",
      "text/plain": [
       "<Figure size 1000x500 with 2 Axes>"
      ]
     },
     "metadata": {},
     "output_type": "display_data"
    }
   ],
   "source": [
    "#Naive Bayes Implementation  \n",
    "from sklearn.naive_bayes import GaussianNB, BernoulliNB, MultinomialNB\n",
    "# Instantiate the classifier\n",
    "gnb = GaussianNB()\n",
    "#bnb = BernoulliNB()\n",
    "#mnb = MultinomialNB()\n",
    "\n",
    "# Train classifier\n",
    "gnb.fit(x_train,y_train)\n",
    "#bnb.fit(x_train,y_train)\n",
    "#mnb.fit(x_train,y_train)\n",
    "\n",
    "# Test the classifier\n",
    "predict = gnb.predict(x_test)\n",
    "#predict = bnb.predict(x_test)\n",
    "#predict = mnb.predict(x_test)\n",
    "\n",
    "# Print results\n",
    "print(\"Number of mislabeled points out of a total {} points : {}, performance {:05.2f}%\"\n",
    "      .format(x_test.shape[0], (y_test != predict).sum(), \n",
    "              gnb.score(x_test,y_test)*100 ))\n",
    "\n",
    "# Creates a confusion matrix\n",
    "cm = confusion_matrix(y_test, predict)\n",
    "\n",
    "# Transform to dataframe for easier plotting\n",
    "cm_df = pd.DataFrame(cm, index = ['0','1'], \n",
    "                     columns = ['0','1'])\n",
    "# plot the confusion matrix\n",
    "plt.figure(figsize=(10,5))\n",
    "sns.heatmap(cm_df, annot=True, fmt='g')\n",
    "plt.title(\"Naive Bayes Accuracy:\" + str(gnb.score(x_test,y_test)*100))\n",
    "plt.ylabel('True label')\n",
    "plt.xlabel('Predicted label')"
   ]
  },
  {
   "cell_type": "code",
   "execution_count": 8,
   "id": "c7dfcdc1",
   "metadata": {},
   "outputs": [],
   "source": [
    "#RBV SVM Implementation\n",
    "from sklearn.svm import SVC\n",
    "svc_rbf= SVC(C=1, kernel='rbf', gamma = 0.0001)\n",
    "svc_rbf.fit(x_train, y_train)\n",
    "yfit = svc_rbf.predict(x_test)"
   ]
  },
  {
   "cell_type": "code",
   "execution_count": 9,
   "id": "0ea1bdcc",
   "metadata": {},
   "outputs": [
    {
     "name": "stdout",
     "output_type": "stream",
     "text": [
      "Fitting 5 folds for each of 16 candidates, totalling 80 fits\n",
      "{'C': 1, 'gamma': 0.0001}\n"
     ]
    }
   ],
   "source": [
    "from sklearn.model_selection import GridSearchCV\n",
    "# import warnings filter\n",
    "from warnings import simplefilter\n",
    "# ignore all future warnings\n",
    "simplefilter(action='ignore', category=FutureWarning)\n",
    "simplefilter(action='ignore', category=DeprecationWarning)\n",
    "\n",
    "param_grid= {'C': [1, 2 ,3 , 5],\n",
    "              'gamma': [0.0001, 0.0005, 0.001, 0.005]}\n",
    "grid = GridSearchCV(svc_rbf, param_grid, verbose=1, n_jobs=-1)\n",
    "grid.fit(x_train, y_train)\n",
    "\n",
    "gridSVM=grid.best_params_\n",
    "print(gridSVM)"
   ]
  },
  {
   "cell_type": "code",
   "execution_count": null,
   "id": "37a35221",
   "metadata": {},
   "outputs": [
    {
     "name": "stdout",
     "output_type": "stream",
     "text": [
      "Fitting 5 folds for each of 16 candidates, totalling 80 fits\n"
     ]
    }
   ],
   "source": []
  },
  {
   "cell_type": "code",
   "execution_count": 10,
   "id": "fb827885",
   "metadata": {},
   "outputs": [
    {
     "data": {
      "text/plain": [
       "Text(0.5, 58.7222222222222, 'Predicted label')"
      ]
     },
     "execution_count": 10,
     "metadata": {},
     "output_type": "execute_result"
    },
    {
     "data": {
      "image/png": "[encoded data removed]",
      "text/plain": [
       "<Figure size 800x800 with 2 Axes>"
      ]
     },
     "metadata": {},
     "output_type": "display_data"
    }
   ],
   "source": [
    "# import the confusion matrix\n",
    "from sklearn.metrics import confusion_matrix\n",
    "\n",
    "# compute the confusion matrix\n",
    "cm = confusion_matrix(y_test, yfit)\n",
    "# Transform to dataframe for easier plotting\n",
    "cm_df = pd.DataFrame(cm, index = ['0','1'], \n",
    "                     columns = ['0','1'])\n",
    "\n",
    "# plot the confusion matrix\n",
    "plt.figure(figsize=(8,8))\n",
    "ax= sns.heatmap(cm_df, annot=True, fmt='g')\n",
    "bottom, top = ax.get_ylim()\n",
    "ax.set_ylim(bottom + 0.5, top - 0.5)\n",
    "plt.title(\"Support Vector Machine Accuracy:\" + str(svc_rbf.score(x_test,y_test)*100))\n",
    "plt.ylabel('True label')\n",
    "plt.xlabel('Predicted label')"
   ]
  },
  {
   "cell_type": "code",
   "execution_count": 11,
   "id": "0940d42f",
   "metadata": {},
   "outputs": [],
   "source": [
    "#Resample the unbalanced data set\n",
    "from sklearn.utils import resample\n",
    "\n",
    "\n",
    "# determine the number of samples for each class\n",
    "class_counts = df.groupby('stroke').size()\n",
    "\n",
    "# determine the minimum number of samples among all classes\n",
    "min_class_count = class_counts.min()\n",
    "\n",
    "# create a new dataframe with an equal number of samples for each class\n",
    "df_balanced = pd.DataFrame(columns=df.columns)\n",
    "for class_label, count in class_counts.items():\n",
    "    df_class = df[df['stroke'] == class_label]\n",
    "    df_class_downsampled = resample(df_class, \n",
    "                                    replace=False, \n",
    "                                    n_samples=min_class_count, \n",
    "                                    random_state=0)\n",
    "    df_balanced = pd.concat([df_balanced, df_class_downsampled])"
   ]
  },
  {
   "cell_type": "code",
   "execution_count": 12,
   "id": "273b23a4",
   "metadata": {},
   "outputs": [
    {
     "name": "stdout",
     "output_type": "stream",
     "text": [
      "this is the test\n",
      "560     0\n",
      "403     0\n",
      "2276    0\n",
      "1936    0\n",
      "1768    0\n",
      "       ..\n",
      "67      1\n",
      "192     1\n",
      "117     1\n",
      "47      1\n",
      "172     1\n",
      "Name: stroke, Length: 498, dtype: object\n"
     ]
    },
    {
     "data": {
      "text/plain": [
       "StandardScaler()"
      ]
     },
     "execution_count": 12,
     "metadata": {},
     "output_type": "execute_result"
    }
   ],
   "source": [
    "# assigning the balanced data set to our training set\n",
    "df = df_balanced\n",
    "x=df.iloc[:,:-1]\n",
    "# set target categorical data label (sixth attribute)\n",
    "y=df.iloc[:,11]\n",
    "print(\"this is the test\")\n",
    "print(y)\n",
    "\n",
    "labelencoder = LabelEncoder()\n",
    "y = labelencoder.fit_transform(y)\n",
    "# import machine learning library to sample the data\n",
    "from sklearn.model_selection import train_test_split\n",
    "\n",
    "x_train,x_test,y_train,y_test=train_test_split(x,y,test_size=0.3,random_state=0)\n",
    "# import machine learning library to standardize the data\n",
    "from sklearn.preprocessing import StandardScaler\n",
    "\n",
    "sc=StandardScaler()\n",
    "sc.fit_transform(x_train,y_train)\n",
    "sc.fit(x_test,y_test)"
   ]
  },
  {
   "cell_type": "code",
   "execution_count": 13,
   "id": "6fa3f6ed",
   "metadata": {},
   "outputs": [
    {
     "data": {
      "text/plain": [
       "0    249\n",
       "1    249\n",
       "Name: stroke, dtype: int64"
      ]
     },
     "execution_count": 13,
     "metadata": {},
     "output_type": "execute_result"
    }
   ],
   "source": [
    "#Chcecking whether the data becomed balanced or not \n",
    "df_balanced['stroke'].value_counts()\n"
   ]
  },
  {
   "cell_type": "code",
   "execution_count": 14,
   "id": "95aac85d",
   "metadata": {},
   "outputs": [
    {
     "name": "stdout",
     "output_type": "stream",
     "text": [
      "Number of mislabeled points out of a total 150 points : 33, performance 78.00%\n"
     ]
    },
    {
     "data": {
      "text/plain": [
       "Text(0.5, 25.722222222222214, 'Predicted label')"
      ]
     },
     "execution_count": 14,
     "metadata": {},
     "output_type": "execute_result"
    },
    {
     "data": {
      "image/png": "[encoded data removed]",
      "text/plain": [
       "<Figure size 1000x500 with 2 Axes>"
      ]
     },
     "metadata": {},
     "output_type": "display_data"
    }
   ],
   "source": [
    "#Performin the naive Bayes on balnced data set\n",
    "from sklearn.naive_bayes import GaussianNB, BernoulliNB, MultinomialNB\n",
    "# Instantiate the classifier\n",
    "gnb = GaussianNB()\n",
    "#bnb = BernoulliNB()\n",
    "#mnb = MultinomialNB()\n",
    "\n",
    "# Train classifier\n",
    "gnb.fit(x_train,y_train)\n",
    "#bnb.fit(x_train,y_train)\n",
    "#mnb.fit(x_train,y_train)\n",
    "\n",
    "# Test the classifier\n",
    "predict = gnb.predict(x_test)\n",
    "#predict = bnb.predict(x_test)\n",
    "#predict = mnb.predict(x_test)\n",
    "\n",
    "# Print results\n",
    "print(\"Number of mislabeled points out of a total {} points : {}, performance {:05.2f}%\"\n",
    "      .format(x_test.shape[0], (y_test != predict).sum(), \n",
    "              gnb.score(x_test,y_test)*100 ))\n",
    "\n",
    "# Creates a confusion matrix\n",
    "cm = confusion_matrix(y_test, predict)\n",
    "\n",
    "# Transform to dataframe for easier plotting\n",
    "cm_df = pd.DataFrame(cm, index = ['0','1'], \n",
    "                     columns = ['0','1'])\n",
    "# plot the confusion matrix\n",
    "plt.figure(figsize=(10,5))\n",
    "sns.heatmap(cm_df, annot=True, fmt='g')\n",
    "plt.title(\"Naive Bayes Accuracy:\" + str(gnb.score(x_test,y_test)*100))\n",
    "plt.ylabel('True label')\n",
    "plt.xlabel('Predicted label')"
   ]
  },
  {
   "cell_type": "code",
   "execution_count": 15,
   "id": "af97f1fc",
   "metadata": {},
   "outputs": [],
   "source": [
    "#performing RBF on balnced dataset\n",
    "svc_rbf= SVC(C=1, kernel='rbf', gamma = 0.0001)\n",
    "svc_rbf.fit(x_train, y_train)\n",
    "yfit = svc_rbf.predict(x_test)"
   ]
  },
  {
   "cell_type": "code",
   "execution_count": 16,
   "id": "1dae0fec",
   "metadata": {},
   "outputs": [
    {
     "data": {
      "text/plain": [
       "Text(0.5, 58.7222222222222, 'Predicted label')"
      ]
     },
     "execution_count": 16,
     "metadata": {},
     "output_type": "execute_result"
    },
    {
     "data": {
      "image/png": "[encoded data removed]",
      "text/plain": [
       "<Figure size 800x800 with 2 Axes>"
      ]
     },
     "metadata": {},
     "output_type": "display_data"
    }
   ],
   "source": [
    "# showing the result of RBF model\n",
    "# import the confusion matrix\n",
    "from sklearn.metrics import confusion_matrix\n",
    "\n",
    "# compute the confusion matrix\n",
    "cm = confusion_matrix(y_test, yfit)\n",
    "# Transform to dataframe for easier plotting\n",
    "cm_df = pd.DataFrame(cm, index = ['0','1'], \n",
    "                     columns = ['0','1'])\n",
    "\n",
    "# plot the confusion matrix\n",
    "plt.figure(figsize=(8,8))\n",
    "ax= sns.heatmap(cm_df, annot=True, fmt='g')\n",
    "bottom, top = ax.get_ylim()\n",
    "ax.set_ylim(bottom + 0.5, top - 0.5)\n",
    "plt.title(\"Support Vector Machine Accuracy:\" + str(svc_rbf.score(x_test,y_test)*100))\n",
    "plt.ylabel('True label')\n",
    "plt.xlabel('Predicted label')"
   ]
  },
  {
   "cell_type": "code",
   "execution_count": 17,
   "id": "64e7e60f",
   "metadata": {
    "scrolled": false
   },
   "outputs": [
    {
     "name": "stdout",
     "output_type": "stream",
     "text": [
      "          Feat_names    F_Scores\n",
      "0                age  195.245105\n",
      "3       ever_married   32.307129\n",
      "4          work_type   27.917520\n",
      "1       hypertension   24.128139\n",
      "5  avg_glucose_level   17.444857\n",
      "2      heart_disease   11.467345\n"
     ]
    }
   ],
   "source": [
    "#Choosing the best features for our model using F_score method\n",
    "from sklearn.feature_selection import SelectKBest, f_classif\n",
    "selector = SelectKBest(score_func = f_classif, k = 6)\n",
    "#New dataframe with the selected features for later use in the classifier. fit() method works too, if you want only the feature names and their corresponding scores\n",
    "X_new = selector.fit_transform(x_train, y_train)\n",
    "names = x_train.columns.values[selector.get_support()]\n",
    "scores = selector.scores_[selector.get_support()]\n",
    "names_scores = list(zip(names, scores))\n",
    "ns_df = pd.DataFrame(data = names_scores, columns=['Feat_names', 'F_Scores'])\n",
    "#Sort the dataframe for better visualization\n",
    "ns_df_sorted = ns_df.sort_values(['F_Scores', 'Feat_names'], ascending = [False, True])\n",
    "print(ns_df_sorted)"
   ]
  },
  {
   "cell_type": "code",
   "execution_count": 19,
   "id": "e030b8eb",
   "metadata": {},
   "outputs": [],
   "source": [
    "#keeping only the selected features and remove the rest\n",
    "x_train= x_train[['age', 'ever_married', 'work_type', 'hypertension', 'avg_glucose_level', 'heart_disease']]\n",
    "#y_train=y_train[['age', 'ever_married', 'work_type', 'hypertension', 'avg_glucose_level', 'heart_disease','smoking_status']]\n",
    "x_test=x_test[['age', 'ever_married', 'work_type', 'hypertension', 'avg_glucose_level',  'heart_disease']]\n",
    "#y_test=y_test[['age', 'ever_married', 'work_type', 'hypertension', 'avg_glucose_level',  'heart_disease','smoking_status']]"
   ]
  },
  {
   "cell_type": "code",
   "execution_count": 20,
   "id": "a5b3e131",
   "metadata": {},
   "outputs": [
    {
     "name": "stdout",
     "output_type": "stream",
     "text": [
      "Number of mislabeled points out of a total 150 points : 32, performance 78.67%\n"
     ]
    },
    {
     "data": {
      "text/plain": [
       "Text(0.5, 25.722222222222214, 'Predicted label')"
      ]
     },
     "execution_count": 20,
     "metadata": {},
     "output_type": "execute_result"
    },
    {
     "data": {
      "image/png": "[encoded data removed]",
      "text/plain": [
       "<Figure size 1000x500 with 2 Axes>"
      ]
     },
     "metadata": {},
     "output_type": "display_data"
    }
   ],
   "source": [
    "# performing naive bayes on the selected feature\n",
    "from sklearn.naive_bayes import GaussianNB, BernoulliNB, MultinomialNB\n",
    "# Instantiate the classifier\n",
    "gnb = GaussianNB()\n",
    "#bnb = BernoulliNB()\n",
    "#mnb = MultinomialNB()\n",
    "# Train classifier\n",
    "gnb.fit(x_train,y_train)\n",
    "#bnb.fit(x_train,y_train)\n",
    "#mnb.fit(x_train,y_train)\n",
    "\n",
    "# Test the classifier\n",
    "predict = gnb.predict(x_test)\n",
    "#predict = bnb.predict(x_test)\n",
    "#predict = mnb.predict(x_test)\n",
    "\n",
    "# Print results\n",
    "print(\"Number of mislabeled points out of a total {} points : {}, performance {:05.2f}%\"\n",
    "      .format(x_test.shape[0], (y_test != predict).sum(), \n",
    "              gnb.score(x_test,y_test)*100 ))\n",
    "\n",
    "# Creates a confusion matrix\n",
    "cm = confusion_matrix(y_test, predict)\n",
    "\n",
    "# Transform to dataframe for easier plotting\n",
    "cm_df = pd.DataFrame(cm, index = ['0','1'], \n",
    "                     columns = ['0','1'])\n",
    "# plot the confusion matrix\n",
    "plt.figure(figsize=(10,5))\n",
    "sns.heatmap(cm_df, annot=True, fmt='g')\n",
    "plt.title(\"Naive Bayes Accuracy:\" + str(gnb.score(x_test,y_test)*100))\n",
    "plt.ylabel('True label')\n",
    "plt.xlabel('Predicted label')"
   ]
  },
  {
   "cell_type": "code",
   "execution_count": 21,
   "id": "f6ef2810",
   "metadata": {},
   "outputs": [],
   "source": [
    "#perform the RBF on the selected feature\n",
    "svc_rbf= SVC(C=1, kernel='rbf', gamma = 0.0001)\n",
    "svc_rbf.fit(x_train, y_train)\n",
    "yfit = svc_rbf.predict(x_test)"
   ]
  },
  {
   "cell_type": "code",
   "execution_count": 22,
   "id": "dc6464a6",
   "metadata": {},
   "outputs": [
    {
     "data": {
      "text/plain": [
       "Text(0.5, 58.7222222222222, 'Predicted label')"
      ]
     },
     "execution_count": 22,
     "metadata": {},
     "output_type": "execute_result"
    },
    {
     "data": {
      "image/png": "[encoded data removed]",
      "text/plain": [
       "<Figure size 800x800 with 2 Axes>"
      ]
     },
     "metadata": {},
     "output_type": "display_data"
    }
   ],
   "source": [
    "# showing the result of the RBF\n",
    "from sklearn.metrics import confusion_matrix\n",
    "\n",
    "# compute the confusion matrix\n",
    "cm = confusion_matrix(y_test, yfit)\n",
    "# Transform to dataframe for easier plotting\n",
    "cm_df = pd.DataFrame(cm, index = ['0','1'], \n",
    "                     columns = ['0','1'])\n",
    "\n",
    "# plot the confusion matrix\n",
    "plt.figure(figsize=(8,8))\n",
    "ax= sns.heatmap(cm_df, annot=True, fmt='g')\n",
    "bottom, top = ax.get_ylim()\n",
    "ax.set_ylim(bottom + 0.5, top - 0.5)\n",
    "plt.title(\"Support Vector Machine Accuracy:\" + str(svc_rbf.score(x_test,y_test)*100))\n",
    "plt.ylabel('True label')\n",
    "plt.xlabel('Predicted label')"
   ]
  },
  {
   "cell_type": "code",
   "execution_count": null,
   "id": "bc945776",
   "metadata": {},
   "outputs": [],
   "source": []
  }
 ],
 "metadata": {
  "kernelspec": {
   "display_name": "Python 3 (ipykernel)",
   "language": "python",
   "name": "python3"
  },
  "language_info": {
   "codemirror_mode": {
    "name": "ipython",
    "version": 3
   },
   "file_extension": ".py",
   "mimetype": "text/x-python",
   "name": "python",
   "nbconvert_exporter": "python",
   "pygments_lexer": "ipython3",
   "version": "3.9.13"
  }
 },
 "nbformat": 4,
 "nbformat_minor": 5
}
